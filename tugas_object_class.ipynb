{
 "cells": [
  {
   "cell_type": "code",
   "execution_count": null,
   "id": "dc0faee5",
   "metadata": {},
   "outputs": [],
   "source": [
    "# Class Person\n",
    "class Person:\n",
    "    # Class Variable\n",
    "    person = 'Person'\n",
    "\n",
    "    # The init method or constructor\n",
    "    def __init__(self, rambut, warna):\n",
    "        # Instance Variables\n",
    "        self.rambut = rambut\n",
    "        self.warna = warna\n",
    "\n",
    "# Objects\n",
    "Budi = Person(\"Ikal\", \"Hitam\")\n",
    "Michael = Person(\"Lurus\", \"Pirang\")\n",
    "\n",
    "print('Budi details:')\n",
    "print('Rambut: ', Budi.rambut)\n",
    "print('Warna Rambut: ', Budi.warna)\n",
    "\n",
    "print('\\nMichael details:')\n",
    "print('Rambut: ', Michael.rambut)\n",
    "print('Warna Rambut: ', Michael.warna)\n"
   ]
  }
 ],
 "metadata": {},
 "nbformat": 4,
 "nbformat_minor": 5
}
